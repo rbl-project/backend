{
 "cells": [
  {
   "cell_type": "code",
   "execution_count": 14,
   "metadata": {},
   "outputs": [
    {
     "data": {
      "text/plain": [
       "[{'sepal_length': 4.9,\n",
       "  'sepal_width': 3.0,\n",
       "  'petal_length': 1.4,\n",
       "  'petal_width': 0.2,\n",
       "  'species': nan},\n",
       " {'sepal_length': 4.6,\n",
       "  'sepal_width': nan,\n",
       "  'petal_length': 1.4,\n",
       "  'petal_width': 0.3,\n",
       "  'species': 'setosa'}]"
      ]
     },
     "execution_count": 14,
     "metadata": {},
     "output_type": "execute_result"
    }
   ],
   "source": [
    "import pandas as pd\n",
    "df = pd.read_csv('iris.csv')\n",
    "# df.isnull().sum(axis = 0).to_dict()\n",
    "# df.isnull().any(axis = 1).sum()\n",
    "df[df.isnull().any(axis=1)].to_dict(orient=\"records\")"
   ]
  }
 ],
 "metadata": {
  "kernelspec": {
   "display_name": "Python 3.8.10 ('venv')",
   "language": "python",
   "name": "python3"
  },
  "language_info": {
   "codemirror_mode": {
    "name": "ipython",
    "version": 3
   },
   "file_extension": ".py",
   "mimetype": "text/x-python",
   "name": "python",
   "nbconvert_exporter": "python",
   "pygments_lexer": "ipython3",
   "version": "3.8.10"
  },
  "orig_nbformat": 4,
  "vscode": {
   "interpreter": {
    "hash": "6c4a5bd5be6c3e092f636088a05d69b372103c59e153b60a8851e3b9c6a1512f"
   }
  }
 },
 "nbformat": 4,
 "nbformat_minor": 2
}
